{
 "cells": [
  {
   "cell_type": "markdown",
   "id": "d3bfc191-8885-42ee-b0a0-bbab867c6f9f",
   "metadata": {
    "tags": []
   },
   "source": [
    "# Lab | Flow Control"
   ]
  },
  {
   "cell_type": "markdown",
   "id": "3851fcd1-cf98-4653-9c89-e003b7ec9400",
   "metadata": {},
   "source": [
    "## Exercise: Managing Customer Orders Optimized\n",
    "\n",
    "In the last lab, you were starting an online store that sells various products. To ensure smooth operations, you developed a program that manages customer orders and inventory.\n",
    "\n",
    "You did so without using flow control. Let's go a step further and improve this code.\n",
    "\n",
    "Follow the steps below to complete the exercise:\n",
    "\n",
    "1. Look at your code from the lab data structures, and improve repeated code with loops.\n",
    "\n",
    "2. Instead of asking the user to input the name of three products that a customer wants to order, do the following:\n",
    "    \n",
    "    a. Prompt the user to enter the name of a product that a customer wants to order.\n",
    "    \n",
    "    b. Add the product name to the \"customer_orders\" set.\n",
    "    \n",
    "    c. Ask the user if they want to add another product (yes/no).\n",
    "    \n",
    "    d. Continue the loop until the user does not want to add another product.\n",
    "\n",
    "3. Instead of updating the inventory by subtracting 1 from the quantity of each product, only do it for  the products that were ordered (those in \"customer_orders\")."
   ]
  },
  {
   "cell_type": "code",
   "execution_count": 2,
   "id": "1e57716c",
   "metadata": {},
   "outputs": [],
   "source": [
    "products = [\"t-shirt\",\"mug\",\"hat\",\"book\",\"keychain\"]\n",
    "\n",
    "inventory = {}\n",
    "\n",
    "for key in products:   \n",
    "    inventory[key] = int(input(f\"{key} stock: \"))"
   ]
  },
  {
   "cell_type": "code",
   "execution_count": 3,
   "id": "f7bc2278",
   "metadata": {},
   "outputs": [
    {
     "data": {
      "text/plain": [
       "{'mug'}"
      ]
     },
     "execution_count": 3,
     "metadata": {},
     "output_type": "execute_result"
    }
   ],
   "source": [
    "customers_orders = set()\n",
    "\n",
    "producto = input(\"Añade un producto a tu pedido: \")\n",
    "while producto not in products:\n",
    "    producto = input(\"Añade un producto que este en la siguiente lista: t-shirt, mug,  hat, book, keychain: \")\n",
    "customers_orders.add(producto)\n",
    "\n",
    "decision = input('¿Quieres añadir otro producto?: ')\n",
    "decision = decision.lower()\n",
    "\n",
    "while decision not in ('si', 'no'):\n",
    "    decision = input('Por favor, escriba si o no: ')\n",
    "    decision = decision.lower()\n",
    "\n",
    "while decision == 'si':\n",
    "    producto = input(\"Añade otro producto a tu pedido: \")\n",
    "    while producto not in products:\n",
    "        producto = input(\"Añade un producto que este en la siguiente lista: t-shirt, mug,  hat, book, keychain: \")\n",
    "    customers_orders.add(producto)\n",
    "\n",
    "    decision = input('¿Quieres añadir otro producto?: ')\n",
    "    decision = decision.lower()\n",
    "    while decision not in ('si', 'no'):\n",
    "        decision = input('Por favor, escriba si o no: ')\n",
    "        decision = decision.lower()\n",
    "\n",
    "\n",
    "customers_orders"
   ]
  },
  {
   "cell_type": "code",
   "execution_count": 4,
   "id": "ca2e80f4",
   "metadata": {},
   "outputs": [
    {
     "name": "stdout",
     "output_type": "stream",
     "text": [
      "El total de productos ordenados es: 1\n",
      "El porcentaje de productos ordenados es: 2.2222222222222223\n",
      "Order statistics \n",
      "Total products ordered: 1 \n",
      "Percentage of products ordered: 2.2222222222222223 %\n"
     ]
    }
   ],
   "source": [
    "total_products_ordered=len(customers_orders)\n",
    "print(f'El total de productos ordenados es: {total_products_ordered}')\n",
    "\n",
    "inventory_list_values = list(inventory.values())\n",
    "total_products = 0\n",
    "\n",
    "for value in inventory_list_values:\n",
    "    total_products += value\n",
    "\n",
    "percentage_ordered = total_products_ordered / total_products * 100\n",
    "    \n",
    "print(f'El porcentaje de productos ordenados es: {percentage_ordered}')\n",
    "\n",
    "order_status = (total_products_ordered , percentage_ordered)\n",
    "\n",
    "print(f'Order statistics \\nTotal products ordered: {total_products_ordered} \\nPercentage of products ordered: {percentage_ordered} %')"
   ]
  },
  {
   "cell_type": "code",
   "execution_count": 6,
   "id": "ad81485e",
   "metadata": {},
   "outputs": [
    {
     "name": "stdout",
     "output_type": "stream",
     "text": [
      "('t-shirt', 9)\n",
      "('mug', 7)\n",
      "('hat', 9)\n",
      "('book', 9)\n",
      "('keychain', 9)\n"
     ]
    }
   ],
   "source": [
    "for values in customers_orders:\n",
    "    num_product = inventory[values]\n",
    "    new_num_products = int(num_product) - 1\n",
    "    inventory[values] = new_num_products\n",
    "    \n",
    "print(*inventory.items(), sep='\\n')"
   ]
  }
 ],
 "metadata": {
  "kernelspec": {
   "display_name": "Python 3 (ipykernel)",
   "language": "python",
   "name": "python3"
  },
  "language_info": {
   "codemirror_mode": {
    "name": "ipython",
    "version": 3
   },
   "file_extension": ".py",
   "mimetype": "text/x-python",
   "name": "python",
   "nbconvert_exporter": "python",
   "pygments_lexer": "ipython3",
   "version": "3.9.6"
  }
 },
 "nbformat": 4,
 "nbformat_minor": 5
}
